{
 "cells": [
  {
   "cell_type": "code",
   "execution_count": 8,
   "id": "fd375990",
   "metadata": {},
   "outputs": [
    {
     "name": "stdout",
     "output_type": "stream",
     "text": [
      "Requirement already satisfied: flask in /home/ayush-sm/my-subjects/Intro to IOT/iotmidsub/mqttfolder/.venv/lib/python3.13/site-packages (3.1.0)\n",
      "Requirement already satisfied: Werkzeug>=3.1 in /home/ayush-sm/my-subjects/Intro to IOT/iotmidsub/mqttfolder/.venv/lib/python3.13/site-packages (from flask) (3.1.3)\n",
      "Requirement already satisfied: Jinja2>=3.1.2 in /home/ayush-sm/my-subjects/Intro to IOT/iotmidsub/mqttfolder/.venv/lib/python3.13/site-packages (from flask) (3.1.6)\n",
      "Requirement already satisfied: itsdangerous>=2.2 in /home/ayush-sm/my-subjects/Intro to IOT/iotmidsub/mqttfolder/.venv/lib/python3.13/site-packages (from flask) (2.2.0)\n",
      "Requirement already satisfied: click>=8.1.3 in /home/ayush-sm/my-subjects/Intro to IOT/iotmidsub/mqttfolder/.venv/lib/python3.13/site-packages (from flask) (8.1.8)\n",
      "Requirement already satisfied: blinker>=1.9 in /home/ayush-sm/my-subjects/Intro to IOT/iotmidsub/mqttfolder/.venv/lib/python3.13/site-packages (from flask) (1.9.0)\n",
      "Requirement already satisfied: MarkupSafe>=2.0 in /home/ayush-sm/my-subjects/Intro to IOT/iotmidsub/mqttfolder/.venv/lib/python3.13/site-packages (from Jinja2>=3.1.2->flask) (3.0.2)\n",
      "Requirement already satisfied: numpy in /home/ayush-sm/my-subjects/Intro to IOT/iotmidsub/mqttfolder/.venv/lib/python3.13/site-packages (2.2.4)\n",
      "Requirement already satisfied: pymongo in /home/ayush-sm/my-subjects/Intro to IOT/iotmidsub/mqttfolder/.venv/lib/python3.13/site-packages (4.12.0)\n",
      "Requirement already satisfied: dnspython<3.0.0,>=1.16.0 in /home/ayush-sm/my-subjects/Intro to IOT/iotmidsub/mqttfolder/.venv/lib/python3.13/site-packages (from pymongo) (2.7.0)\n",
      "Requirement already satisfied: paho-mqtt in /home/ayush-sm/my-subjects/Intro to IOT/iotmidsub/mqttfolder/.venv/lib/python3.13/site-packages (2.1.0)\n"
     ]
    }
   ],
   "source": [
    "!pip install flask\n",
    "!pip install numpy\n",
    "!pip install pymongo\n",
    "!pip install paho-mqtt"
   ]
  },
  {
   "cell_type": "code",
   "execution_count": 9,
   "id": "0f7d1932",
   "metadata": {},
   "outputs": [],
   "source": [
    "#load some virtual_environment, request, jsonify\n",
    "from flask import Flask, render_template, request, jsonify\n",
    "import numpy as np\n",
    "from pymongo import MongoClient\n",
    "import paho.mqtt.client as mqtt\n",
    "import threading\n",
    "import json"
   ]
  },
  {
   "cell_type": "code",
   "execution_count": 10,
   "id": "f9fce290",
   "metadata": {},
   "outputs": [],
   "source": [
    "app = Flask(__name__)\n",
    "client = MongoClient('localhost',27017)\n",
    "db = client.flask_database\n",
    "sensor_data_collection = db.sensor_data\n"
   ]
  },
  {
   "cell_type": "code",
   "execution_count": 11,
   "id": "ef2a4292",
   "metadata": {},
   "outputs": [],
   "source": [
    "VALID_KEYS={\"TDS\",\"TURBIDITY\",\"PH\"}\n",
    "MQTT_BROKER = \"localhost\"\n",
    "MQTT_PORT = 1883\n",
    "MQTT_TOPIC = \"quality\""
   ]
  },
  {
   "cell_type": "code",
   "execution_count": 12,
   "id": "3effd1e4",
   "metadata": {},
   "outputs": [
    {
     "name": "stdout",
     "output_type": "stream",
     "text": [
      " * Serving Flask app '__main__'\n",
      " * Debug mode: on\n"
     ]
    },
    {
     "name": "stderr",
     "output_type": "stream",
     "text": [
      "/tmp/ipykernel_411335/2908328419.py:23: DeprecationWarning: Callback API version 1 is deprecated, update to latest version\n",
      "  mqtt_client = mqtt.Client()\n",
      "\u001b[31m\u001b[1mWARNING: This is a development server. Do not use it in a production deployment. Use a production WSGI server instead.\u001b[0m\n",
      " * Running on all addresses (0.0.0.0)\n",
      " * Running on http://127.0.0.1:5002\n",
      " * Running on http://10.2.133.229:5002\n",
      "\u001b[33mPress CTRL+C to quit\u001b[0m\n",
      " * Restarting with stat\n"
     ]
    },
    {
     "name": "stdout",
     "output_type": "stream",
     "text": [
      "Connected with result code 0\n"
     ]
    },
    {
     "name": "stderr",
     "output_type": "stream",
     "text": [
      "Traceback (most recent call last):\n",
      "  File \"<frozen runpy>\", line 198, in _run_module_as_main\n",
      "  File \"<frozen runpy>\", line 88, in _run_code\n",
      "  File \"/home/ayush-sm/my-subjects/Intro to IOT/iotmidsub/mqttfolder/.venv/lib/python3.13/site-packages/ipykernel_launcher.py\", line 18, in <module>\n",
      "    app.launch_new_instance()\n",
      "    ~~~~~~~~~~~~~~~~~~~~~~~^^\n",
      "  File \"/home/ayush-sm/my-subjects/Intro to IOT/iotmidsub/mqttfolder/.venv/lib/python3.13/site-packages/traitlets/config/application.py\", line 1074, in launch_instance\n",
      "    app.initialize(argv)\n",
      "    ~~~~~~~~~~~~~~^^^^^^\n",
      "  File \"/home/ayush-sm/my-subjects/Intro to IOT/iotmidsub/mqttfolder/.venv/lib/python3.13/site-packages/traitlets/config/application.py\", line 118, in inner\n",
      "    return method(app, *args, **kwargs)\n",
      "  File \"/home/ayush-sm/my-subjects/Intro to IOT/iotmidsub/mqttfolder/.venv/lib/python3.13/site-packages/ipykernel/kernelapp.py\", line 692, in initialize\n",
      "    self.init_sockets()\n",
      "    ~~~~~~~~~~~~~~~~~^^\n",
      "  File \"/home/ayush-sm/my-subjects/Intro to IOT/iotmidsub/mqttfolder/.venv/lib/python3.13/site-packages/ipykernel/kernelapp.py\", line 331, in init_sockets\n",
      "    self.shell_port = self._bind_socket(self.shell_socket, self.shell_port)\n",
      "                      ~~~~~~~~~~~~~~~~~^^^^^^^^^^^^^^^^^^^^^^^^^^^^^^^^^^^^\n",
      "  File \"/home/ayush-sm/my-subjects/Intro to IOT/iotmidsub/mqttfolder/.venv/lib/python3.13/site-packages/ipykernel/kernelapp.py\", line 253, in _bind_socket\n",
      "    return self._try_bind_socket(s, port)\n",
      "           ~~~~~~~~~~~~~~~~~~~~~^^^^^^^^^\n",
      "  File \"/home/ayush-sm/my-subjects/Intro to IOT/iotmidsub/mqttfolder/.venv/lib/python3.13/site-packages/ipykernel/kernelapp.py\", line 229, in _try_bind_socket\n",
      "    s.bind(\"tcp://%s:%i\" % (self.ip, port))\n",
      "    ~~~~~~^^^^^^^^^^^^^^^^^^^^^^^^^^^^^^^^^\n",
      "  File \"/home/ayush-sm/my-subjects/Intro to IOT/iotmidsub/mqttfolder/.venv/lib/python3.13/site-packages/zmq/sugar/socket.py\", line 320, in bind\n",
      "    super().bind(addr)\n",
      "    ~~~~~~~~~~~~^^^^^^\n",
      "  File \"_zmq.py\", line 942, in zmq.backend.cython._zmq.Socket.bind\n",
      "  File \"_zmq.py\", line 180, in zmq.backend.cython._zmq._check_rc\n",
      "zmq.error.ZMQError: Address already in use (addr='tcp://127.0.0.1:9002')\n"
     ]
    },
    {
     "ename": "SystemExit",
     "evalue": "1",
     "output_type": "error",
     "traceback": [
      "An exception has occurred, use %tb to see the full traceback.\n",
      "\u001b[31mSystemExit\u001b[39m\u001b[31m:\u001b[39m 1\n"
     ]
    }
   ],
   "source": [
    "def on_connect(client, userdata, flags, rc):\n",
    "    print(\"Connected with result code \" + str(rc))\n",
    "    client.subscribe(MQTT_TOPIC)\n",
    "\n",
    "def on_message(client, userdata, msg):\n",
    "    print(f\"Message recieved: {msg.topic} -> {msg.payload.decode()}\")\n",
    "\n",
    "    try:\n",
    "        data = json.loads(msg.payload.decode())\n",
    "        if isinstance(data, dict):\n",
    "            if all(key in data for key in VALID_KEYS):\n",
    "                filtered_data = {key: data[key] for key in VALID_KEYS}\n",
    "                sensor_data_collection.insert_one(filtered_data)    \n",
    "                print(\"Data inserted into MongoDB:\", filtered_data)\n",
    "            else:\n",
    "                print(\"Invalid keys in data\")\n",
    "        else:\n",
    "            print(\"Invalid data format\")\n",
    "    except Exception as e:\n",
    "        print(\"Error parsing data:\", e)\n",
    "\n",
    "def start_mqtt():\n",
    "    mqtt_client = mqtt.Client()\n",
    "    mqtt_client.on_connect = on_connect\n",
    "    mqtt_client.on_message = on_message\n",
    "    mqtt_client.connect(MQTT_BROKER, MQTT_PORT, 60)\n",
    "    mqtt_client.loop_forever()\n",
    "\n",
    "    #Flask routes\n",
    "\n",
    "@app.route(\"/\", methods=[\"GET\"])\n",
    "def index():\n",
    "    return render_template(\"index.html\")\n",
    "\n",
    "@app.route(\"/data\", methods=[\"GET\"])\n",
    "def get_data():\n",
    "    data = list(sensor_data_collection.find({}, {\"_id\": 0}))\n",
    "    return jsonify({\"sensor_data\":data})\n",
    "\n",
    "@app.route(\"/test_db\", methods=[\"GET\"])\n",
    "def test_db():\n",
    "    try:\n",
    "        db.admin.command('ping')\n",
    "        return jsonify({\"status\":\"MongoDB is running\"})\n",
    "    except Exception as e:\n",
    "        return jsonify({\"status\":\"MongoDB is not running\", \"error\": str(e)})\n",
    "\n",
    "if __name__=='__main__':\n",
    "    mqtt_thread = threading.Thread(target=start_mqtt,daemon=True)\n",
    "    mqtt_thread.start()\n",
    "    app.run(host='0.0.0.0', port=5002, debug=True)            "
   ]
  },
  {
   "cell_type": "code",
   "execution_count": null,
   "id": "396ad647-efbc-4579-a961-9b892d6e7151",
   "metadata": {},
   "outputs": [],
   "source": []
  }
 ],
 "metadata": {
  "kernelspec": {
   "display_name": ".venv",
   "language": "python",
   "name": "python3"
  },
  "language_info": {
   "codemirror_mode": {
    "name": "ipython",
    "version": 3
   },
   "file_extension": ".py",
   "mimetype": "text/x-python",
   "name": "python",
   "nbconvert_exporter": "python",
   "pygments_lexer": "ipython3",
   "version": "3.13.1"
  }
 },
 "nbformat": 4,
 "nbformat_minor": 5
}
